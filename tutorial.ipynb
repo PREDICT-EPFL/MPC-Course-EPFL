{
 "cells": [
  {
   "cell_type": "markdown",
   "id": "3e28148e",
   "metadata": {},
   "source": [
    "# Tutorial\n",
    "\n",
    "Throughout the semester, we will use multiple Python libraries that you may or may not be familiar with. You will find below resources for the most important ones, either in the form of documentation links or short tutorials.\n",
    "\n",
    "## NumPy\n",
    "\n",
    "NumPy is a fundamental package for scientific computing in Python. It provides support for arrays, matrices, and a variety of mathematical functions to operate on these data structures.\n",
    "- [Official NumPy Documentation](https://numpy.org/doc/stable/)\n",
    "- [NumPy Quickstart](https://numpy.org/doc/stable/user/quickstart.html)\n",
    "- [NumPy for Matlab users](https://numpy.org/doc/stable/user/numpy-for-matlab-users.html)\n",
    "\n",
    "## Matplotlib\n",
    "\n",
    "Matplotlib is the de facto plotting library for Python. It provides a simple Matlab-like API to create line plots, scatter plots, bar plots, and more.\n",
    "- [Official Matplotlib Documentation](https://matplotlib.org/stable/contents.html)\n",
    "- [Matplotlib Gallery](https://matplotlib.org/stable/gallery/index.html)\n",
    "\n",
    "## mpt4py\n",
    "\n",
    "The Multi-Parametric Toolbox for Python (mpt4py for short) offers efficient routines for various polyhedral computations that arise in optimal control.\n",
    "It is currently being developed by our lab while it is very much functional it may contain a few bugs. Please do report them if you find some.\n",
    "\n",
    "You can find the documentation in the form of local HTML files in this directory [`mpt4py_doc_html`](mpt4py_doc_html). Simply open the `index.html` file in your web browser to view it.\n",
    "\n",
    "> **NOTE**: ignore the installation section, you should already have it installed.\n",
    "\n",
    "In the following subsections we will also go through the basic operations that `mpt4py` supports."
   ]
  },
  {
   "cell_type": "code",
   "execution_count": 1,
   "id": "d97e1b03",
   "metadata": {},
   "outputs": [],
   "source": [
    "import numpy as np\n",
    "from mpt4py.base import HData, VData\n",
    "from mpt4py import Polyhedron\n",
    "%config InlineBackend.figure_format = 'retina'\n"
   ]
  },
  {
   "cell_type": "markdown",
   "id": "96096678",
   "metadata": {},
   "source": [
    "### Polyhedron Creation\n",
    "A polyhedron can be represented in two ways:\n",
    "- The halfspace representation (**H-rep**), given by the feasible region of inequalities and equalities:\n",
    "\t$$P = \\left\\{ x \\in\\mathbb{R}^n \\mid A x \\leq b, A_e x = b_e \\right\\}$$\n",
    "- The vertex representation (**V-rep**), given by vertices (and rays for unbounded polyhedra):\n",
    "\t$$P = \\left\\{ x \\in\\mathbb{R}^n \\mid x = V^\\top \\lambda + R^\\top \\mu, ~ 1^\\top \\lambda = 1 , ~ \\lambda,\\mu \\geq 0 \\right\\} $$\n",
    "\n",
    "\n",
    "The `mpt4py` provides two classes `HData` and `VData` to represent both representations, respectively. The users can easily create a polyhedron from either of them.\n",
    "\n",
    "We will show how to create a polyhedron in the following.\n"
   ]
  },
  {
   "cell_type": "markdown",
   "id": "a131ba16",
   "metadata": {},
   "source": [
    "\n",
    "#### Create a polyhedron from H-rep\n",
    "\n",
    "For example, to create a 2D hexgon from its H-rep, we just need to write down the arrays representing the left-hand side and right-hand side of inequalities and equalities `A, b, Ae, be` (in this example there is no equality, so we ignore `Ae` and `be`).\n",
    "\n",
    "A `HData` object should be constructed using these arrays. With this object, we can then create a `Polyhedron` object."
   ]
  },
  {
   "cell_type": "code",
   "execution_count": 2,
   "id": "cfb2d3d0",
   "metadata": {},
   "outputs": [],
   "source": [
    "# Create a 2D hexagon from H-representation\n",
    "theta = np.linspace(0, 2*np.pi, 7).reshape((-1,1))[:-1]\n",
    "A = np.column_stack((np.sin(theta), np.cos(theta)))\n",
    "b = np.sqrt(3)/2 * np.ones((6))\n",
    "\n",
    "hrep = HData(A=A, b=b, Ae=None, be=None) # you can save the Ae and be arguments since their default values are None\n",
    "hexagon_1 = Polyhedron(H=hrep)"
   ]
  },
  {
   "cell_type": "markdown",
   "id": "c03f01eb",
   "metadata": {},
   "source": [
    "An equivalent but more compact way is to use the class method `from_Hrep()`, since this will save the efforts to create a `HData` object."
   ]
  },
  {
   "cell_type": "code",
   "execution_count": 3,
   "id": "eb29d54a",
   "metadata": {},
   "outputs": [],
   "source": [
    "hexagon_1 = Polyhedron.from_Hrep(A=A, b=b) # a more compact way "
   ]
  },
  {
   "cell_type": "markdown",
   "id": "351eeb92",
   "metadata": {},
   "source": [
    "#### Create a polyhedron from V-rep\n",
    "Similarly, we can create the same hexagon from its V-rep. We will need to write down its vertices `V` and rays `R` (in this example there are only vertices), and use them to create a `VData` object. "
   ]
  },
  {
   "cell_type": "code",
   "execution_count": 4,
   "id": "b724df0b",
   "metadata": {},
   "outputs": [],
   "source": [
    "# Create the same 2D hexagon from V-representation\n",
    "V = np.column_stack((np.cos(theta), np.sin(theta))) # the vertices\n",
    "vrep = VData(V=V, R=None)\n",
    "hexagon_2 = Polyhedron(V=vrep)"
   ]
  },
  {
   "cell_type": "markdown",
   "id": "3c79be2c",
   "metadata": {},
   "source": [
    "Of course, there is also a classmethod `from_Vrep()` to do the same job."
   ]
  },
  {
   "cell_type": "code",
   "execution_count": 5,
   "id": "641ae818",
   "metadata": {},
   "outputs": [],
   "source": [
    "hexagon_2 = Polyhedron.from_Vrep(V=V) # a more compact way"
   ]
  },
  {
   "cell_type": "markdown",
   "id": "9e4d8d31",
   "metadata": {},
   "source": [
    "### Polyhedron Visualization\n",
    "\n",
    "With `mpt4py`, a polyhedron `P` can be easily visualized with `P.plot(ax, **kwargs)`. Two backends are supported: matlotlib and [pyvista](https://docs.pyvista.org/index.html) with unified API.\n",
    "\n",
    "- To use matplotlib, pass a [`matplotlib.axes.Axes`](https://matplotlib.org/stable/api/_as_gen/matplotlib.axes.Axes.html#matplotlib.axes.Axes) object as the `ax` argument. \n",
    "\t\n",
    "\t**Note:** supports bounded polyhedra only. Limited 3D capabilities.\n",
    "\n",
    "- To use pyvista, pass a [`pyvista.Plotter`](https://docs.pyvista.org/api/plotting/_autosummary/pyvista.plotter) object as the `ax` argument. \n",
    "\n",
    "\t**Note:** supports both bounded and unbounded polyhdra. Better support for 3D plotting. \n",
    "\n"
   ]
  },
  {
   "cell_type": "markdown",
   "id": "b78e3d15",
   "metadata": {},
   "source": [
    "#### Visualize a 2D polyhedron\n",
    "It's possible to use kwargs to control some visualization properties. We plot the 2D hexagon again with some arguments to customize the visualization."
   ]
  },
  {
   "cell_type": "code",
   "execution_count": 6,
   "id": "318d5ba8",
   "metadata": {},
   "outputs": [
    {
     "data": {
      "image/png": "[encoded data removed]",
      "text/plain": [
       "<Figure size 640x480 with 1 Axes>"
      ]
     },
     "metadata": {
      "image/png": {
       "height": 413,
       "width": 499
      }
     },
     "output_type": "display_data"
    }
   ],
   "source": [
    "# Visualization with matplotlib\n",
    "import matplotlib.pyplot as plt\n",
    "fig, ax = plt.subplots(1, 1)\n",
    "ax.set_aspect('equal')\n",
    "\n",
    "hexagon_1.plot(ax, \n",
    "               opacity=0.2, \n",
    "               color='r', \n",
    "               show_edges=True,\n",
    "               show_vertices=True,\n",
    "               edge_color='black',\n",
    "               line_width=2.,\n",
    "               vertex_color='black'\n",
    "               )\n",
    "plt.show()"
   ]
  },
  {
   "cell_type": "code",
   "execution_count": 7,
   "id": "5e9674b0",
   "metadata": {},
   "outputs": [
    {
     "ename": "TypeError",
     "evalue": "PyvistaPlotter.plot_convexhull() got an unexpected keyword argument 'label'",
     "output_type": "error",
     "traceback": [
      "\u001b[31m---------------------------------------------------------------------------\u001b[39m",
      "\u001b[31mTypeError\u001b[39m                                 Traceback (most recent call last)",
      "\u001b[36mCell\u001b[39m\u001b[36m \u001b[39m\u001b[32mIn[7]\u001b[39m\u001b[32m, line 5\u001b[39m\n\u001b[32m      2\u001b[39m \u001b[38;5;28;01mimport\u001b[39;00m\u001b[38;5;250m \u001b[39m\u001b[34;01mpyvista\u001b[39;00m\u001b[38;5;250m \u001b[39m\u001b[38;5;28;01mas\u001b[39;00m\u001b[38;5;250m \u001b[39m\u001b[34;01mpv\u001b[39;00m\n\u001b[32m      3\u001b[39m plotter = pv.Plotter()\n\u001b[32m----> \u001b[39m\u001b[32m5\u001b[39m \u001b[43mhexagon_2\u001b[49m\u001b[43m.\u001b[49m\u001b[43mplot\u001b[49m\u001b[43m(\u001b[49m\n\u001b[32m      6\u001b[39m \u001b[43m    \u001b[49m\u001b[43mplotter\u001b[49m\u001b[43m,\u001b[49m\n\u001b[32m      7\u001b[39m \u001b[43m    \u001b[49m\u001b[43mlabel\u001b[49m\u001b[43m=\u001b[49m\u001b[33;43m'\u001b[39;49m\u001b[33;43mhexagon\u001b[39;49m\u001b[33;43m'\u001b[39;49m\u001b[43m,\u001b[49m\n\u001b[32m      8\u001b[39m \u001b[43m    \u001b[49m\u001b[43mopacity\u001b[49m\u001b[43m=\u001b[49m\u001b[32;43m0.5\u001b[39;49m\u001b[43m,\u001b[49m\n\u001b[32m      9\u001b[39m \u001b[43m    \u001b[49m\u001b[43mcolor\u001b[49m\u001b[43m=\u001b[49m\u001b[33;43m'\u001b[39;49m\u001b[33;43mred\u001b[39;49m\u001b[33;43m'\u001b[39;49m\u001b[43m,\u001b[49m\n\u001b[32m     10\u001b[39m \u001b[43m    \u001b[49m\u001b[43mshow_edges\u001b[49m\u001b[43m=\u001b[49m\u001b[38;5;28;43;01mTrue\u001b[39;49;00m\u001b[43m,\u001b[49m\n\u001b[32m     11\u001b[39m \u001b[43m\t\u001b[49m\u001b[43mshow_vertices\u001b[49m\u001b[43m=\u001b[49m\u001b[38;5;28;43;01mTrue\u001b[39;49;00m\u001b[43m,\u001b[49m\n\u001b[32m     12\u001b[39m \u001b[43m\t\u001b[49m\u001b[43medge_color\u001b[49m\u001b[43m=\u001b[49m\u001b[33;43m'\u001b[39;49m\u001b[33;43mblack\u001b[39;49m\u001b[33;43m'\u001b[39;49m\u001b[43m,\u001b[49m\n\u001b[32m     13\u001b[39m \u001b[43m\t\u001b[49m\u001b[43mline_width\u001b[49m\u001b[43m=\u001b[49m\u001b[32;43m2.\u001b[39;49m\u001b[43m,\u001b[49m\n\u001b[32m     14\u001b[39m \u001b[43m\t\u001b[49m\u001b[43mvertex_color\u001b[49m\u001b[43m=\u001b[49m\u001b[33;43m'\u001b[39;49m\u001b[33;43mblack\u001b[39;49m\u001b[33;43m'\u001b[39;49m\n\u001b[32m     15\u001b[39m \u001b[43m    \u001b[49m\u001b[43m)\u001b[49m\n\u001b[32m     17\u001b[39m plotter.view_xy()  \u001b[38;5;66;03m# view the 3D object in a 2D manner on the xy plane \u001b[39;00m\n\u001b[32m     18\u001b[39m plotter.show_bounds()\n",
      "\u001b[36mFile \u001b[39m\u001b[32m/opt/anaconda3/envs/mpc2025/lib/python3.12/site-packages/mpt4py/geometry/polyhedron.py:1468\u001b[39m, in \u001b[36mPolyhedron.plot\u001b[39m\u001b[34m(self, ax, **kwargs)\u001b[39m\n\u001b[32m   1466\u001b[39m \t\u001b[38;5;28;01mfrom\u001b[39;00m\u001b[38;5;250m \u001b[39m\u001b[34;01mmpt4py\u001b[39;00m\u001b[34;01m.\u001b[39;00m\u001b[34;01mgeometry\u001b[39;00m\u001b[34;01m.\u001b[39;00m\u001b[34;01mvisualization\u001b[39;00m\u001b[34;01m.\u001b[39;00m\u001b[34;01mplot_pyvista\u001b[39;00m\u001b[38;5;250m \u001b[39m\u001b[38;5;28;01mimport\u001b[39;00m PyvistaPlotter\n\u001b[32m   1467\u001b[39m \tplotter_protocal = PyvistaPlotter(ax)\n\u001b[32m-> \u001b[39m\u001b[32m1468\u001b[39m \t\u001b[43mplotter_protocal\u001b[49m\u001b[43m.\u001b[49m\u001b[43mplot_convexhull\u001b[49m\u001b[43m(\u001b[49m\u001b[38;5;28;43mself\u001b[39;49m\u001b[43m.\u001b[49m\u001b[43mVrep\u001b[49m\u001b[43m.\u001b[49m\u001b[43mV\u001b[49m\u001b[43m,\u001b[49m\u001b[43m \u001b[49m\u001b[38;5;28;43mself\u001b[39;49m\u001b[43m.\u001b[49m\u001b[43mVrep\u001b[49m\u001b[43m.\u001b[49m\u001b[43mR\u001b[49m\u001b[43m,\u001b[49m\u001b[43m \u001b[49m\u001b[43m*\u001b[49m\u001b[43m*\u001b[49m\u001b[43mkwargs\u001b[49m\u001b[43m)\u001b[49m\n\u001b[32m   1469\u001b[39m \u001b[38;5;28;01melse\u001b[39;00m:\n\u001b[32m   1470\u001b[39m \t\u001b[38;5;28;01mraise\u001b[39;00m \u001b[38;5;167;01mNotImplementedError\u001b[39;00m(\u001b[33m\"\u001b[39m\u001b[33mUnsupported backend. Supported backends are matplotlib and pyvista.\u001b[39m\u001b[33m\"\u001b[39m)\n",
      "\u001b[31mTypeError\u001b[39m: PyvistaPlotter.plot_convexhull() got an unexpected keyword argument 'label'"
     ]
    }
   ],
   "source": [
    "# Visualization with pyvista\n",
    "import pyvista as pv\n",
    "plotter = pv.Plotter()\n",
    "\n",
    "hexagon_2.plot(\n",
    "    plotter,\n",
    "    label='hexagon',\n",
    "    opacity=0.5,\n",
    "    color='red',\n",
    "    show_edges=True,\n",
    "\tshow_vertices=True,\n",
    "\tedge_color='black',\n",
    "\tline_width=2.,\n",
    "\tvertex_color='black'\n",
    "    )\n",
    "\n",
    "plotter.view_xy()  # view the 3D object in a 2D manner on the xy plane \n",
    "plotter.show_bounds()\n",
    "plotter.add_legend()\n",
    "plotter.show()"
   ]
  },
  {
   "cell_type": "markdown",
   "id": "c180f855",
   "metadata": {},
   "source": [
    "#### Visualize a 3D polyhedron\n",
    "\n",
    "Compare to 2D, the only difference to plot a 3D polyhedron using matplotlib is that we have to set `projection=3d` when creating the `matplotlib.axes.Axes` object.\n"
   ]
  },
  {
   "cell_type": "code",
   "execution_count": null,
   "id": "56b950f8",
   "metadata": {},
   "outputs": [],
   "source": [
    "V = np.array([[1, 0, 0], [0, 1, 0], [-1, 0, 0], [0, -1, 0], [0, 0, 1]], dtype=np.float64)  # a pyramid\n",
    "P = Polyhedron.from_Vrep(V)\n",
    "ax = plt.subplot(projection='3d')  # ! don't forget the projection argument\n",
    "\n",
    "P.plot(\n",
    "    ax, \n",
    "    color='r',\n",
    "    opacity=0.5, \n",
    "    show_edges=True, \n",
    "    show_vertices=True,\n",
    "    # label='pyramid',  # label is not yet available for 3D polyhedron plotting in mpt4py\n",
    "    )\n",
    "plt.show()"
   ]
  },
  {
   "cell_type": "markdown",
   "id": "9add6c1d",
   "metadata": {},
   "source": [
    "The way to plot a 3D polyhedron using PyVista is basically the same as 2D. "
   ]
  },
  {
   "cell_type": "code",
   "execution_count": null,
   "id": "5325d943",
   "metadata": {},
   "outputs": [],
   "source": [
    "plotter = pv.Plotter()\n",
    "P.plot(\n",
    "    plotter, \n",
    "    label='3D Polyhedron', \n",
    "    opacity=0.5,\n",
    "    color='blue', \n",
    "    show_edges=True, \n",
    "    show_vertices=False,\n",
    "    )\n",
    "plotter.show_bounds()\n",
    "plotter.add_legend()\n",
    "plotter.show()"
   ]
  },
  {
   "cell_type": "markdown",
   "id": "726d51c0",
   "metadata": {},
   "source": [
    "Thanks to the PyVista backend, it's also possible to nicely visualize an unbounded polyhedron."
   ]
  },
  {
   "cell_type": "code",
   "execution_count": null,
   "id": "ce4b7b48",
   "metadata": {},
   "outputs": [],
   "source": [
    "R = np.array([[0, 0, 1]], dtype=np.float64)\n",
    "P = Polyhedron.from_Vrep(V, R)  # add a ray to make the polyhedron unbounded\n",
    "plotter = pv.Plotter()\n",
    "P.plot(\n",
    "    plotter, \n",
    "    label='3D Polyhedron', \n",
    "    opacity=0.5,\n",
    "    color='green', \n",
    "    )\n",
    "plotter.show_bounds()\n",
    "plotter.add_legend()\n",
    "plotter.show()"
   ]
  },
  {
   "cell_type": "markdown",
   "id": "d474ef61",
   "metadata": {},
   "source": [
    "### Polyhedron Operations\n",
    "\n",
    "#### Set containment and equivalence\n",
    "\n",
    "To determine if a polyhedron $P_1$ is a subset of another polyhedron $P_2$, just use `P1 in P2` or `P2.contains(P1)`. \n"
   ]
  },
  {
   "cell_type": "code",
   "execution_count": null,
   "id": "ac48163e",
   "metadata": {},
   "outputs": [],
   "source": [
    "print(\"Is hexagon 1 a subset of hexagon 2? \", hexagon_1 in hexagon_2)\n",
    "print(\"Is hexagon 2 a subset of hexagon 1? \", hexagon_2 in hexagon_1)\n",
    "\n",
    "print(\"Does hexagon 1 contain hexagon 2? \", hexagon_1.contains(hexagon_2))\n",
    "print(\"Does hexagon 2 contain hexagon 1? \", hexagon_2.contains(hexagon_1))"
   ]
  },
  {
   "cell_type": "markdown",
   "id": "2c4bde7c",
   "metadata": {},
   "source": [
    "\n",
    "For two polyhedra $P_1$ and $P_2$, we have $ P_1 = P_2 \\iff P_1 \\subseteq P_2,~ P_2\\subseteq P_1$.\n",
    "\n",
    "We can verify the two hexagons we just created are identical using the `==` operator.\n"
   ]
  },
  {
   "cell_type": "code",
   "execution_count": null,
   "id": "379e6adc",
   "metadata": {},
   "outputs": [],
   "source": [
    "print(\"Are the two hexagons identical? \", hexagon_1 == hexagon_2)"
   ]
  },
  {
   "cell_type": "markdown",
   "id": "cf221057",
   "metadata": {},
   "source": [
    "#### Affine map\n",
    "\n",
    "Based on the transformation matrix $T\\in\\mathbb{R}^{n\\times d}$ and vector $t$, the affine map of a polyhedron $P$ to another polyhedron $Q$ is defined by:\n",
    "\n",
    "$$Q = \\{ y \\in \\mathbb{R}^n \\mid y=Tx+t, x \\in P \\subseteq \\mathbb{R}^d \\}.$$\n",
    "\n",
    "\t\t\n",
    "In *mpt4py*, this can be computed with `Q = P.affine_map(T, t)`, or `Q = T @ P + t`."
   ]
  },
  {
   "cell_type": "code",
   "execution_count": null,
   "id": "12c43f2c",
   "metadata": {},
   "outputs": [],
   "source": [
    "alpha = np.pi/3\n",
    "T = np.array([[np.cos(alpha), -np.sin(alpha)], [np.sin(alpha), np.cos(alpha)]])\n",
    "t = np.array([1.5, 0.])\n",
    "\n",
    "hexagon_3 = hexagon_2.affine_map(T, t)\n",
    "# Optionally and equivalently:\n",
    "hexagon_3 = T @ hexagon_2 + t\n",
    "\n",
    "ax = plt.subplot()\n",
    "ax.set_aspect('equal')\n",
    "hexagon_1.plot(ax, color='red', opacity=0.3)\n",
    "hexagon_3.plot(ax, color='blue', opacity=0.3)\n",
    "plt.show()"
   ]
  },
  {
   "cell_type": "markdown",
   "id": "f34fa57a",
   "metadata": {},
   "source": [
    "#### Intersection\n",
    "\n",
    "The intersection of two polyhedra $P_1$ and $P_2$ is still a polyhedron. In *mpt4py*, it can be computed with `P1.intersection(P2)`.\n"
   ]
  },
  {
   "cell_type": "code",
   "execution_count": null,
   "id": "8c58fc02",
   "metadata": {},
   "outputs": [],
   "source": [
    "P4 = hexagon_1.intersect(hexagon_3)\n",
    "\n",
    "ax = plt.subplot()\n",
    "ax.set_aspect('equal')\n",
    "P4.plot(ax, color='purple', opacity=0.3)\n",
    "plt.show()"
   ]
  },
  {
   "cell_type": "markdown",
   "id": "91148a23",
   "metadata": {},
   "source": [
    "#### Minkowski sum and Pontryagin difference\n",
    "\n",
    "To compute the Minkowski sum or Pontryagin difference of two polyhedra with *mpt4py*, just simply do `P1 + P2` or `P1 - P2`, respectively."
   ]
  },
  {
   "cell_type": "code",
   "execution_count": null,
   "id": "70d1808b",
   "metadata": {},
   "outputs": [],
   "source": [
    "# Compute the Minkowski sum of the hexagon_1 and a small square\n",
    "square_1 = Polyhedron.from_Vrep(0.2 * np.array([[1,1], [-1,1], [1,-1], [-1,-1]]))\n",
    "P5 = hexagon_1 + square_1\n",
    "# Optionally and equivalently, use:\n",
    "P5 = hexagon_1.minkowski_sum(square_1)\n",
    "\n",
    "ax = plt.subplot()\n",
    "ax.set_aspect('equal')\n",
    "P5.plot(ax, color='gray', opacity=0.3)\n",
    "hexagon_1.plot(ax, color='red', opacity=0.3)\n",
    "square_1.plot(ax, color='green', opacity=0.3)\n",
    "\n",
    "plt.show()"
   ]
  },
  {
   "cell_type": "code",
   "execution_count": null,
   "id": "4f7c4eb2",
   "metadata": {},
   "outputs": [],
   "source": [
    "# Compute the Pontragin difference of the hexagon_1 and a small square\n",
    "P6 = hexagon_1 - square_1\n",
    "# Optionally and equivalently, use:\n",
    "P6 = hexagon_1.pontryagin_difference(square_1)\n",
    "\n",
    "ax = plt.subplot()\n",
    "ax.set_aspect('equal')\n",
    "hexagon_1.plot(ax, color='red', opacity=0.3)\n",
    "square_1.plot(ax, color='green', opacity=0.3)\n",
    "P6.plot(ax, color='gray', opacity=0.3)\n",
    "\n",
    "plt.show()"
   ]
  }
 ],
 "metadata": {
  "kernelspec": {
   "display_name": "mpc2025",
   "language": "python",
   "name": "python3"
  },
  "language_info": {
   "codemirror_mode": {
    "name": "ipython",
    "version": 3
   },
   "file_extension": ".py",
   "mimetype": "text/x-python",
   "name": "python",
   "nbconvert_exporter": "python",
   "pygments_lexer": "ipython3",
   "version": "3.12.11"
  }
 },
 "nbformat": 4,
 "nbformat_minor": 5
}
